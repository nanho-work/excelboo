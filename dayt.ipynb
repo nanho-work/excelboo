{
 "cells": [
  {
   "cell_type": "code",
   "execution_count": 1,
   "id": "6d4e46ea",
   "metadata": {},
   "outputs": [],
   "source": [
    "import pandas as pd\n",
    "import numpy as np\n",
    "from PyQt6.QtCharts import QChart, QBarSeries\n"
   ]
  },
  {
   "cell_type": "code",
   "execution_count": 2,
   "id": "1ba1fc46",
   "metadata": {},
   "outputs": [
    {
     "data": {
      "text/plain": [
       "Index(['접수처', '접수일', '처리기한', '처리완료일', '민원유형', 'PG사', '카드사', '승인일', '승인번호',\n",
       "       '승인금액', '할부', '가맹점\\n사업자번호', '가맹점명', 'MID', 'TID명', 'TID\\n사업자번호', '요청사항',\n",
       "       '민원인', '민원인 연락처', '민원내용', '처리내용', '처리결과', '취소여부', '취소일자', '입금금액',\n",
       "       '입금일자', '입금여부', '요청사항.1', '민원인.1', '처리상태'],\n",
       "      dtype='object')"
      ]
     },
     "execution_count": 2,
     "metadata": {},
     "output_type": "execute_result"
    }
   ],
   "source": [
    "pd.set_option('display.max_columns', None)\n",
    "# 전체민원 시트 불러오기\n",
    "df = pd.read_excel(\"/Users/choenamho/Downloads/test.xlsx\", sheet_name=\"전체민원\")     \n",
    "df.head()         # 상위 5개 행 확인\n",
    "df.columns        # 컬럼명 확인\n",
    "     # 결측치/데이터 타입 확인"
   ]
  },
  {
   "cell_type": "code",
   "execution_count": 11,
   "id": "00bbf1e4",
   "metadata": {},
   "outputs": [
    {
     "name": "stdout",
     "output_type": "stream",
     "text": [
      "<class 'pandas.core.frame.DataFrame'>\n",
      "RangeIndex: 387 entries, 0 to 386\n",
      "Data columns (total 33 columns):\n",
      " #   Column     Non-Null Count  Dtype         \n",
      "---  ------     --------------  -----         \n",
      " 0   접수처        387 non-null    object        \n",
      " 1   접수일        387 non-null    datetime64[ns]\n",
      " 2   처리기한       387 non-null    datetime64[ns]\n",
      " 3   처리완료일      337 non-null    object        \n",
      " 4   민원유형       387 non-null    object        \n",
      " 5   PG사        387 non-null    object        \n",
      " 6   카드사        387 non-null    object        \n",
      " 7   승인일        387 non-null    object        \n",
      " 8   승인번호       387 non-null    int64         \n",
      " 9   승인금액       387 non-null    int64         \n",
      " 10  할부         387 non-null    int64         \n",
      " 11  가맹점\n",
      "사업자번호  387 non-null    object        \n",
      " 12  가맹점명       387 non-null    object        \n",
      " 13  MID        387 non-null    object        \n",
      " 14  TID명       387 non-null    object        \n",
      " 15  TID\n",
      "사업자번호  386 non-null    object        \n",
      " 16  요청사항       51 non-null     object        \n",
      " 17  민원인        12 non-null     object        \n",
      " 18  민원인 연락처    7 non-null      object        \n",
      " 19  민원내용       0 non-null      float64       \n",
      " 20  처리내용       19 non-null     object        \n",
      " 21  처리결과       337 non-null    object        \n",
      " 22  취소여부       337 non-null    object        \n",
      " 23  취소일자       216 non-null    datetime64[ns]\n",
      " 24  입금금액       350 non-null    float64       \n",
      " 25  입금일자       122 non-null    datetime64[ns]\n",
      " 26  입금여부       216 non-null    object        \n",
      " 27  요청사항.1     4 non-null      object        \n",
      " 28  민원인.1      94 non-null     object        \n",
      " 29  처리상태       209 non-null    object        \n",
      " 30  접수년        387 non-null    int32         \n",
      " 31  월          387 non-null    int32         \n",
      " 32  일          387 non-null    int32         \n",
      "dtypes: datetime64[ns](4), float64(2), int32(3), int64(3), object(21)\n",
      "memory usage: 95.4+ KB\n"
     ]
    }
   ],
   "source": [
    "df[\"접수년\"] = df[\"접수일\"].dt.year\n",
    "df[\"월\"] = df[\"접수일\"].dt.month\n",
    "df[\"일\"] = df[\"접수일\"].dt.day\n",
    "df.info()"
   ]
  },
  {
   "cell_type": "code",
   "execution_count": 8,
   "id": "a90a766f",
   "metadata": {},
   "outputs": [
    {
     "name": "stdout",
     "output_type": "stream",
     "text": [
      "✅ 연도 콤보: [2025]\n",
      "✅ 월 콤보 (2025): [6, 7, 8]\n",
      "✅ 일 콤보 (2025-8): [1]\n",
      "✅ 기본 선택값: 2025-8-1\n"
     ]
    },
    {
     "data": {
      "application/vnd.microsoft.datawrangler.viewer.v0+json": {
       "columns": [
        {
         "name": "index",
         "rawType": "int64",
         "type": "integer"
        },
        {
         "name": "접수일",
         "rawType": "datetime64[ns]",
         "type": "datetime"
        },
        {
         "name": "가맹점명",
         "rawType": "object",
         "type": "string"
        },
        {
         "name": "TID명",
         "rawType": "object",
         "type": "string"
        },
        {
         "name": "날짜별민원비중",
         "rawType": "object",
         "type": "string"
        },
        {
         "name": "민원건수",
         "rawType": "int64",
         "type": "integer"
        },
        {
         "name": "기한내처리건수",
         "rawType": "int64",
         "type": "integer"
        },
        {
         "name": "회신율",
         "rawType": "object",
         "type": "string"
        }
       ],
       "ref": "52a3c305-1124-4fd1-828b-471ef4b78a96",
       "rows": [
        [
         "0",
         "2025-06-25 00:00:00",
         "피오나",
         "(주)메가플러스",
         "6.2%",
         "1",
         "1",
         "100.0%"
        ],
        [
         "1",
         "2025-06-25 00:00:00",
         "피오나",
         "스마트해운항공 주식회사",
         "37.5%",
         "6",
         "6",
         "100.0%"
        ],
        [
         "2",
         "2025-06-25 00:00:00",
         "피오나",
         "주식회사 리치트레이드",
         "12.5%",
         "2",
         "2",
         "100.0%"
        ],
        [
         "3",
         "2025-06-25 00:00:00",
         "피오나",
         "주식회사 서원트레이딩",
         "6.2%",
         "1",
         "1",
         "100.0%"
        ],
        [
         "4",
         "2025-06-25 00:00:00",
         "피오나",
         "주식회사 스마트빌드",
         "37.5%",
         "6",
         "6",
         "100.0%"
        ]
       ],
       "shape": {
        "columns": 7,
        "rows": 5
       }
      },
      "text/html": [
       "<div>\n",
       "<style scoped>\n",
       "    .dataframe tbody tr th:only-of-type {\n",
       "        vertical-align: middle;\n",
       "    }\n",
       "\n",
       "    .dataframe tbody tr th {\n",
       "        vertical-align: top;\n",
       "    }\n",
       "\n",
       "    .dataframe thead th {\n",
       "        text-align: right;\n",
       "    }\n",
       "</style>\n",
       "<table border=\"1\" class=\"dataframe\">\n",
       "  <thead>\n",
       "    <tr style=\"text-align: right;\">\n",
       "      <th></th>\n",
       "      <th>접수일</th>\n",
       "      <th>가맹점명</th>\n",
       "      <th>TID명</th>\n",
       "      <th>날짜별민원비중</th>\n",
       "      <th>민원건수</th>\n",
       "      <th>기한내처리건수</th>\n",
       "      <th>회신율</th>\n",
       "    </tr>\n",
       "  </thead>\n",
       "  <tbody>\n",
       "    <tr>\n",
       "      <th>0</th>\n",
       "      <td>2025-06-25</td>\n",
       "      <td>피오나</td>\n",
       "      <td>(주)메가플러스</td>\n",
       "      <td>6.2%</td>\n",
       "      <td>1</td>\n",
       "      <td>1</td>\n",
       "      <td>100.0%</td>\n",
       "    </tr>\n",
       "    <tr>\n",
       "      <th>1</th>\n",
       "      <td>2025-06-25</td>\n",
       "      <td>피오나</td>\n",
       "      <td>스마트해운항공 주식회사</td>\n",
       "      <td>37.5%</td>\n",
       "      <td>6</td>\n",
       "      <td>6</td>\n",
       "      <td>100.0%</td>\n",
       "    </tr>\n",
       "    <tr>\n",
       "      <th>2</th>\n",
       "      <td>2025-06-25</td>\n",
       "      <td>피오나</td>\n",
       "      <td>주식회사 리치트레이드</td>\n",
       "      <td>12.5%</td>\n",
       "      <td>2</td>\n",
       "      <td>2</td>\n",
       "      <td>100.0%</td>\n",
       "    </tr>\n",
       "    <tr>\n",
       "      <th>3</th>\n",
       "      <td>2025-06-25</td>\n",
       "      <td>피오나</td>\n",
       "      <td>주식회사 서원트레이딩</td>\n",
       "      <td>6.2%</td>\n",
       "      <td>1</td>\n",
       "      <td>1</td>\n",
       "      <td>100.0%</td>\n",
       "    </tr>\n",
       "    <tr>\n",
       "      <th>4</th>\n",
       "      <td>2025-06-25</td>\n",
       "      <td>피오나</td>\n",
       "      <td>주식회사 스마트빌드</td>\n",
       "      <td>37.5%</td>\n",
       "      <td>6</td>\n",
       "      <td>6</td>\n",
       "      <td>100.0%</td>\n",
       "    </tr>\n",
       "  </tbody>\n",
       "</table>\n",
       "</div>"
      ],
      "text/plain": [
       "         접수일 가맹점명          TID명 날짜별민원비중  민원건수  기한내처리건수     회신율\n",
       "0 2025-06-25  피오나      (주)메가플러스    6.2%     1        1  100.0%\n",
       "1 2025-06-25  피오나  스마트해운항공 주식회사   37.5%     6        6  100.0%\n",
       "2 2025-06-25  피오나   주식회사 리치트레이드   12.5%     2        2  100.0%\n",
       "3 2025-06-25  피오나   주식회사 서원트레이딩    6.2%     1        1  100.0%\n",
       "4 2025-06-25  피오나    주식회사 스마트빌드   37.5%     6        6  100.0%"
      ]
     },
     "execution_count": 8,
     "metadata": {},
     "output_type": "execute_result"
    }
   ],
   "source": [
    "# 연도 콤보박스 리스트\n",
    "years = sorted(df[\"접수년\"].unique())\n",
    "print(\"✅ 연도 콤보:\", years)\n",
    "\n",
    "# 최신 연도 기준 월 콤보\n",
    "latest_year = years[-1]\n",
    "months = sorted(df[df[\"접수년\"] == latest_year][\"월\"].unique())\n",
    "print(f\"✅ 월 콤보 ({latest_year}):\", months)\n",
    "\n",
    "# 최신 연/월 기준 일 콤보\n",
    "latest_month = months[-1]\n",
    "days = sorted(df[(df[\"접수년\"] == latest_year) & (df[\"월\"] == latest_month)][\"일\"].unique())\n",
    "print(f\"✅ 일 콤보 ({latest_year}-{latest_month}):\", days)\n",
    "\n",
    "# 기본값\n",
    "print(f\"✅ 기본 선택값: {latest_year}-{latest_month}-{days[-1]}\")\n",
    "\n",
    "# 예: 선택된 날짜 기준 필터\n",
    "filtered_df = df[\n",
    "    (df[\"접수년\"] == latest_year) &\n",
    "    (df[\"월\"] == latest_month) &\n",
    "    (df[\"일\"] == days[-1])\n",
    "]\n",
    "filtered_df.head()\n",
    "\n",
    "# 필요한 집계 작업\n",
    "grouped = df.groupby([\"접수일\", \"가맹점명\", \"TID명\"]).agg(\n",
    "    민원건수=(\"TID명\", \"count\"),\n",
    "    기한내처리건수=(\"처리상태\", lambda x: x.str.lower().eq(\"y\").sum())\n",
    ").reset_index()\n",
    "\n",
    "# 회신율 계산\n",
    "grouped[\"회신율\"] = ((grouped[\"기한내처리건수\"] / grouped[\"민원건수\"]) * 100).round(1).astype(str) + \"%\"\n",
    "\n",
    "# 날짜별 민원비중 계산\n",
    "total_by_date = grouped.groupby(\"접수일\")[\"민원건수\"].transform(\"sum\")\n",
    "grouped[\"날짜별민원비중\"] = ((grouped[\"민원건수\"] / total_by_date) * 100).round(1).astype(str) + \"%\"\n",
    "\n",
    "# 컬럼 순서 정렬\n",
    "column_order = [\"접수일\", \"가맹점명\", \"TID명\", \"날짜별민원비중\", \"민원건수\", \"기한내처리건수\", \"회신율\"]\n",
    "grouped = grouped[column_order]\n",
    "\n",
    "# 결과 미리보기\n",
    "grouped.head()"
   ]
  },
  {
   "cell_type": "code",
   "execution_count": null,
   "id": "1b1e9a07",
   "metadata": {},
   "outputs": [],
   "source": []
  }
 ],
 "metadata": {
  "kernelspec": {
   "display_name": "Python (hi)",
   "language": "python",
   "name": "hi"
  },
  "language_info": {
   "codemirror_mode": {
    "name": "ipython",
    "version": 3
   },
   "file_extension": ".py",
   "mimetype": "text/x-python",
   "name": "python",
   "nbconvert_exporter": "python",
   "pygments_lexer": "ipython3",
   "version": "3.10.18"
  }
 },
 "nbformat": 4,
 "nbformat_minor": 5
}
